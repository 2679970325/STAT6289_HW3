{
  "nbformat": 4,
  "nbformat_minor": 0,
  "metadata": {
    "colab": {
      "name": "HW3_Zhang_Yu.ipynb",
      "provenance": []
    },
    "kernelspec": {
      "name": "python3",
      "display_name": "Python 3"
    }
  },
  "cells": [
    {
      "cell_type": "code",
      "metadata": {
        "id": "_OHz3ME4KaYC",
        "outputId": "55f6f89d-b670-4186-b79e-0e9620f2afb4",
        "colab": {
          "base_uri": "https://localhost:8080/"
        }
      },
      "source": [
        "from google.colab import drive\n",
        "\n",
        "# Mount Google Drive\n",
        "drive.mount('/content/drive')\n",
        "\n",
        "# Set working directory\n",
        "import os\n",
        "path='/content/drive/My Drive/Colab Notebooks'\n",
        "os.chdir(path)"
      ],
      "execution_count": null,
      "outputs": [
        {
          "output_type": "stream",
          "text": [
            "Mounted at /content/drive\n"
          ],
          "name": "stdout"
        }
      ]
    },
    {
      "cell_type": "code",
      "metadata": {
        "id": "H3KsNIb6LTIt"
      },
      "source": [
        "import math\n",
        "import matplotlib.pyplot as plt\n",
        "import keras\n",
        "import pandas as pd\n",
        "import numpy as np\n",
        "from keras.models import Sequential\n",
        "from keras.layers import Dense\n",
        "from keras.layers import LSTM\n",
        "from keras.layers import Dropout\n",
        "from keras.layers import *\n",
        "from sklearn.preprocessing import MinMaxScaler\n",
        "from sklearn.metrics import mean_squared_error\n",
        "from sklearn.metrics import mean_absolute_error\n",
        "from sklearn.model_selection import train_test_split\n",
        "from keras.callbacks import EarlyStopping"
      ],
      "execution_count": null,
      "outputs": []
    },
    {
      "cell_type": "code",
      "metadata": {
        "id": "BXt25Gr5LbTf",
        "outputId": "ba5f9899-6deb-41a9-ad23-fddaae64027c",
        "colab": {
          "base_uri": "https://localhost:8080/",
          "height": 212
        }
      },
      "source": [
        "df=pd.read_csv(\"TSLA.csv\")\n",
        "print('Number of rows and columns:', df.shape)\n",
        "df.head(5)"
      ],
      "execution_count": null,
      "outputs": [
        {
          "output_type": "stream",
          "text": [
            "Number of rows and columns: (1328, 7)\n"
          ],
          "name": "stdout"
        },
        {
          "output_type": "execute_result",
          "data": {
            "text/html": [
              "<div>\n",
              "<style scoped>\n",
              "    .dataframe tbody tr th:only-of-type {\n",
              "        vertical-align: middle;\n",
              "    }\n",
              "\n",
              "    .dataframe tbody tr th {\n",
              "        vertical-align: top;\n",
              "    }\n",
              "\n",
              "    .dataframe thead th {\n",
              "        text-align: right;\n",
              "    }\n",
              "</style>\n",
              "<table border=\"1\" class=\"dataframe\">\n",
              "  <thead>\n",
              "    <tr style=\"text-align: right;\">\n",
              "      <th></th>\n",
              "      <th>Date</th>\n",
              "      <th>Open</th>\n",
              "      <th>High</th>\n",
              "      <th>Low</th>\n",
              "      <th>Close</th>\n",
              "      <th>Adj Close</th>\n",
              "      <th>Volume</th>\n",
              "    </tr>\n",
              "  </thead>\n",
              "  <tbody>\n",
              "    <tr>\n",
              "      <th>0</th>\n",
              "      <td>2015-07-09</td>\n",
              "      <td>51.816002</td>\n",
              "      <td>52.590000</td>\n",
              "      <td>51.358002</td>\n",
              "      <td>51.584000</td>\n",
              "      <td>51.584000</td>\n",
              "      <td>16670500</td>\n",
              "    </tr>\n",
              "    <tr>\n",
              "      <th>1</th>\n",
              "      <td>2015-07-10</td>\n",
              "      <td>52.444000</td>\n",
              "      <td>52.599998</td>\n",
              "      <td>51.563999</td>\n",
              "      <td>51.830002</td>\n",
              "      <td>51.830002</td>\n",
              "      <td>13054500</td>\n",
              "    </tr>\n",
              "    <tr>\n",
              "      <th>2</th>\n",
              "      <td>2015-07-13</td>\n",
              "      <td>52.450001</td>\n",
              "      <td>52.509998</td>\n",
              "      <td>51.209999</td>\n",
              "      <td>52.431999</td>\n",
              "      <td>52.431999</td>\n",
              "      <td>14801500</td>\n",
              "    </tr>\n",
              "    <tr>\n",
              "      <th>3</th>\n",
              "      <td>2015-07-14</td>\n",
              "      <td>52.419998</td>\n",
              "      <td>53.198002</td>\n",
              "      <td>52.102001</td>\n",
              "      <td>53.130001</td>\n",
              "      <td>53.130001</td>\n",
              "      <td>9538000</td>\n",
              "    </tr>\n",
              "    <tr>\n",
              "      <th>4</th>\n",
              "      <td>2015-07-15</td>\n",
              "      <td>53.348000</td>\n",
              "      <td>53.498001</td>\n",
              "      <td>52.416000</td>\n",
              "      <td>52.627998</td>\n",
              "      <td>52.627998</td>\n",
              "      <td>10108000</td>\n",
              "    </tr>\n",
              "  </tbody>\n",
              "</table>\n",
              "</div>"
            ],
            "text/plain": [
              "         Date       Open       High        Low      Close  Adj Close    Volume\n",
              "0  2015-07-09  51.816002  52.590000  51.358002  51.584000  51.584000  16670500\n",
              "1  2015-07-10  52.444000  52.599998  51.563999  51.830002  51.830002  13054500\n",
              "2  2015-07-13  52.450001  52.509998  51.209999  52.431999  52.431999  14801500\n",
              "3  2015-07-14  52.419998  53.198002  52.102001  53.130001  53.130001   9538000\n",
              "4  2015-07-15  53.348000  53.498001  52.416000  52.627998  52.627998  10108000"
            ]
          },
          "metadata": {
            "tags": []
          },
          "execution_count": 3
        }
      ]
    },
    {
      "cell_type": "code",
      "metadata": {
        "id": "IaQTBJ98M4ZR"
      },
      "source": [
        "training_set = df.iloc[:800, 1:2].values\n",
        "test_set = df.iloc[800:, 1:2].values"
      ],
      "execution_count": null,
      "outputs": []
    },
    {
      "cell_type": "code",
      "metadata": {
        "id": "k8CpNbeDM54H"
      },
      "source": [
        "# Feature Scaling\n",
        "sc = MinMaxScaler(feature_range = (0, 1))\n",
        "training_set_scaled = sc.fit_transform(training_set)\n",
        "# Creating a data structure with 60 time-steps and 1 output\n",
        "X_train = []\n",
        "y_train = []\n",
        "for i in range(60, 800):\n",
        "    X_train.append(training_set_scaled[i-60:i, 0])\n",
        "    y_train.append(training_set_scaled[i, 0])\n",
        "X_train, y_train = np.array(X_train), np.array(y_train)\n",
        "X_train = np.reshape(X_train, (X_train.shape[0], X_train.shape[1], 1))\n",
        "#(740, 60, 1)"
      ],
      "execution_count": null,
      "outputs": []
    },
    {
      "cell_type": "code",
      "metadata": {
        "id": "BEyZgzZ-M-Ne",
        "outputId": "b1c3d3c9-054f-4576-9d7c-655e3ca342fc",
        "colab": {
          "base_uri": "https://localhost:8080/"
        }
      },
      "source": [
        "model = Sequential()\n",
        "#Adding the first LSTM layer and some Dropout regularisation\n",
        "model.add(LSTM(units = 50, return_sequences = True, input_shape = (X_train.shape[1], 1)))\n",
        "model.add(Dropout(0.2))\n",
        "# Adding a second LSTM layer and some Dropout regularisation\n",
        "model.add(LSTM(units = 50, return_sequences = True))\n",
        "model.add(Dropout(0.2))\n",
        "# Adding a third LSTM layer and some Dropout regularisation\n",
        "model.add(LSTM(units = 50, return_sequences = True))\n",
        "model.add(Dropout(0.2))\n",
        "# Adding a fourth LSTM layer and some Dropout regularisation\n",
        "model.add(LSTM(units = 50))\n",
        "model.add(Dropout(0.2))\n",
        "# Adding the output layer\n",
        "model.add(Dense(units = 1))\n",
        "\n",
        "# Compiling the RNN\n",
        "model.compile(optimizer = 'adam', loss = 'mean_squared_error')\n",
        "\n",
        "# Fitting the RNN to the Training set\n",
        "model.fit(X_train, y_train, epochs = 100, batch_size = 32)"
      ],
      "execution_count": null,
      "outputs": [
        {
          "output_type": "stream",
          "text": [
            "Epoch 1/100\n",
            "24/24 [==============================] - 3s 107ms/step - loss: 0.0731\n",
            "Epoch 2/100\n",
            "24/24 [==============================] - 3s 111ms/step - loss: 0.0188\n",
            "Epoch 3/100\n",
            "24/24 [==============================] - 3s 115ms/step - loss: 0.0139\n",
            "Epoch 4/100\n",
            "24/24 [==============================] - 3s 118ms/step - loss: 0.0133\n",
            "Epoch 5/100\n",
            "24/24 [==============================] - 3s 114ms/step - loss: 0.0120\n",
            "Epoch 6/100\n",
            "24/24 [==============================] - 3s 119ms/step - loss: 0.0125\n",
            "Epoch 7/100\n",
            "24/24 [==============================] - 3s 112ms/step - loss: 0.0114\n",
            "Epoch 8/100\n",
            "24/24 [==============================] - 3s 115ms/step - loss: 0.0108\n",
            "Epoch 9/100\n",
            "24/24 [==============================] - 3s 115ms/step - loss: 0.0102\n",
            "Epoch 10/100\n",
            "24/24 [==============================] - 3s 113ms/step - loss: 0.0106\n",
            "Epoch 11/100\n",
            "24/24 [==============================] - 3s 115ms/step - loss: 0.0105\n",
            "Epoch 12/100\n",
            "24/24 [==============================] - 3s 119ms/step - loss: 0.0118\n",
            "Epoch 13/100\n",
            "24/24 [==============================] - 3s 120ms/step - loss: 0.0140\n",
            "Epoch 14/100\n",
            "24/24 [==============================] - 3s 113ms/step - loss: 0.0086\n",
            "Epoch 15/100\n",
            "24/24 [==============================] - 3s 113ms/step - loss: 0.0093\n",
            "Epoch 16/100\n",
            "24/24 [==============================] - 3s 111ms/step - loss: 0.0079\n",
            "Epoch 17/100\n",
            "24/24 [==============================] - 3s 112ms/step - loss: 0.0075\n",
            "Epoch 18/100\n",
            "24/24 [==============================] - 3s 117ms/step - loss: 0.0081\n",
            "Epoch 19/100\n",
            "24/24 [==============================] - 3s 112ms/step - loss: 0.0069\n",
            "Epoch 20/100\n",
            "24/24 [==============================] - 3s 111ms/step - loss: 0.0073\n",
            "Epoch 21/100\n",
            "24/24 [==============================] - 3s 112ms/step - loss: 0.0072\n",
            "Epoch 22/100\n",
            "24/24 [==============================] - 3s 113ms/step - loss: 0.0071\n",
            "Epoch 23/100\n",
            "24/24 [==============================] - 3s 111ms/step - loss: 0.0065\n",
            "Epoch 24/100\n",
            "24/24 [==============================] - 3s 111ms/step - loss: 0.0066\n",
            "Epoch 25/100\n",
            "24/24 [==============================] - 3s 111ms/step - loss: 0.0071\n",
            "Epoch 26/100\n",
            "24/24 [==============================] - 3s 115ms/step - loss: 0.0067\n",
            "Epoch 27/100\n",
            "24/24 [==============================] - 3s 116ms/step - loss: 0.0066\n",
            "Epoch 28/100\n",
            "24/24 [==============================] - 3s 116ms/step - loss: 0.0059\n",
            "Epoch 29/100\n",
            "24/24 [==============================] - 3s 118ms/step - loss: 0.0062\n",
            "Epoch 30/100\n",
            "24/24 [==============================] - 3s 115ms/step - loss: 0.0068\n",
            "Epoch 31/100\n",
            "24/24 [==============================] - 3s 114ms/step - loss: 0.0068\n",
            "Epoch 32/100\n",
            "24/24 [==============================] - 3s 122ms/step - loss: 0.0079\n",
            "Epoch 33/100\n",
            "24/24 [==============================] - 3s 122ms/step - loss: 0.0065\n",
            "Epoch 34/100\n",
            "24/24 [==============================] - 3s 115ms/step - loss: 0.0056\n",
            "Epoch 35/100\n",
            "24/24 [==============================] - 3s 116ms/step - loss: 0.0053\n",
            "Epoch 36/100\n",
            "24/24 [==============================] - 3s 115ms/step - loss: 0.0059\n",
            "Epoch 37/100\n",
            "24/24 [==============================] - 3s 116ms/step - loss: 0.0059\n",
            "Epoch 38/100\n",
            "24/24 [==============================] - 3s 120ms/step - loss: 0.0054\n",
            "Epoch 39/100\n",
            "24/24 [==============================] - 3s 113ms/step - loss: 0.0050\n",
            "Epoch 40/100\n",
            "24/24 [==============================] - 3s 113ms/step - loss: 0.0048\n",
            "Epoch 41/100\n",
            "24/24 [==============================] - 3s 115ms/step - loss: 0.0053\n",
            "Epoch 42/100\n",
            "24/24 [==============================] - 3s 117ms/step - loss: 0.0051\n",
            "Epoch 43/100\n",
            "24/24 [==============================] - 3s 117ms/step - loss: 0.0049\n",
            "Epoch 44/100\n",
            "24/24 [==============================] - 3s 118ms/step - loss: 0.0046\n",
            "Epoch 45/100\n",
            "24/24 [==============================] - 3s 113ms/step - loss: 0.0047\n",
            "Epoch 46/100\n",
            "24/24 [==============================] - 3s 116ms/step - loss: 0.0046\n",
            "Epoch 47/100\n",
            "24/24 [==============================] - 3s 122ms/step - loss: 0.0050\n",
            "Epoch 48/100\n",
            "24/24 [==============================] - 3s 116ms/step - loss: 0.0060\n",
            "Epoch 49/100\n",
            "24/24 [==============================] - 3s 116ms/step - loss: 0.0044\n",
            "Epoch 50/100\n",
            "24/24 [==============================] - 3s 113ms/step - loss: 0.0046\n",
            "Epoch 51/100\n",
            "24/24 [==============================] - 3s 114ms/step - loss: 0.0045\n",
            "Epoch 52/100\n",
            "24/24 [==============================] - 3s 120ms/step - loss: 0.0046\n",
            "Epoch 53/100\n",
            "24/24 [==============================] - 3s 123ms/step - loss: 0.0045\n",
            "Epoch 54/100\n",
            "24/24 [==============================] - 3s 124ms/step - loss: 0.0042\n",
            "Epoch 55/100\n",
            "24/24 [==============================] - 3s 125ms/step - loss: 0.0037\n",
            "Epoch 56/100\n",
            "24/24 [==============================] - 3s 117ms/step - loss: 0.0043\n",
            "Epoch 57/100\n",
            "24/24 [==============================] - 3s 114ms/step - loss: 0.0043\n",
            "Epoch 58/100\n",
            "24/24 [==============================] - 3s 116ms/step - loss: 0.0039\n",
            "Epoch 59/100\n",
            "24/24 [==============================] - 3s 113ms/step - loss: 0.0042\n",
            "Epoch 60/100\n",
            "24/24 [==============================] - 3s 115ms/step - loss: 0.0043\n",
            "Epoch 61/100\n",
            "24/24 [==============================] - 3s 114ms/step - loss: 0.0039\n",
            "Epoch 62/100\n",
            "24/24 [==============================] - 3s 113ms/step - loss: 0.0039\n",
            "Epoch 63/100\n",
            "24/24 [==============================] - 3s 119ms/step - loss: 0.0035\n",
            "Epoch 64/100\n",
            "24/24 [==============================] - 3s 124ms/step - loss: 0.0037\n",
            "Epoch 65/100\n",
            "24/24 [==============================] - 3s 114ms/step - loss: 0.0034\n",
            "Epoch 66/100\n",
            "24/24 [==============================] - 3s 119ms/step - loss: 0.0036\n",
            "Epoch 67/100\n",
            "24/24 [==============================] - 3s 115ms/step - loss: 0.0042\n",
            "Epoch 68/100\n",
            "24/24 [==============================] - 3s 117ms/step - loss: 0.0039\n",
            "Epoch 69/100\n",
            "24/24 [==============================] - 3s 113ms/step - loss: 0.0039\n",
            "Epoch 70/100\n",
            "24/24 [==============================] - 3s 112ms/step - loss: 0.0036\n",
            "Epoch 71/100\n",
            "24/24 [==============================] - 3s 121ms/step - loss: 0.0040\n",
            "Epoch 72/100\n",
            "24/24 [==============================] - 3s 120ms/step - loss: 0.0039\n",
            "Epoch 73/100\n",
            "24/24 [==============================] - 3s 118ms/step - loss: 0.0036\n",
            "Epoch 74/100\n",
            "24/24 [==============================] - 3s 118ms/step - loss: 0.0036\n",
            "Epoch 75/100\n",
            "24/24 [==============================] - 3s 113ms/step - loss: 0.0037\n",
            "Epoch 76/100\n",
            "24/24 [==============================] - 3s 120ms/step - loss: 0.0034\n",
            "Epoch 77/100\n",
            "24/24 [==============================] - 3s 116ms/step - loss: 0.0043\n",
            "Epoch 78/100\n",
            "24/24 [==============================] - 3s 117ms/step - loss: 0.0033\n",
            "Epoch 79/100\n",
            "24/24 [==============================] - 3s 120ms/step - loss: 0.0030\n",
            "Epoch 80/100\n",
            "24/24 [==============================] - 3s 115ms/step - loss: 0.0033\n",
            "Epoch 81/100\n",
            "24/24 [==============================] - 3s 114ms/step - loss: 0.0032\n",
            "Epoch 82/100\n",
            "24/24 [==============================] - 3s 114ms/step - loss: 0.0032\n",
            "Epoch 83/100\n",
            "24/24 [==============================] - 3s 115ms/step - loss: 0.0035\n",
            "Epoch 84/100\n",
            "24/24 [==============================] - 3s 114ms/step - loss: 0.0032\n",
            "Epoch 85/100\n",
            "24/24 [==============================] - 3s 118ms/step - loss: 0.0029\n",
            "Epoch 86/100\n",
            "24/24 [==============================] - 3s 115ms/step - loss: 0.0030\n",
            "Epoch 87/100\n",
            "24/24 [==============================] - 3s 116ms/step - loss: 0.0034\n",
            "Epoch 88/100\n",
            "24/24 [==============================] - 3s 116ms/step - loss: 0.0032\n",
            "Epoch 89/100\n",
            "24/24 [==============================] - 3s 115ms/step - loss: 0.0031\n",
            "Epoch 90/100\n",
            "24/24 [==============================] - 3s 113ms/step - loss: 0.0031\n",
            "Epoch 91/100\n",
            "24/24 [==============================] - 3s 115ms/step - loss: 0.0032\n",
            "Epoch 92/100\n",
            "24/24 [==============================] - 3s 117ms/step - loss: 0.0032\n",
            "Epoch 93/100\n",
            "24/24 [==============================] - 3s 118ms/step - loss: 0.0036\n",
            "Epoch 94/100\n",
            "24/24 [==============================] - 3s 118ms/step - loss: 0.0034\n",
            "Epoch 95/100\n",
            "24/24 [==============================] - 3s 119ms/step - loss: 0.0027\n",
            "Epoch 96/100\n",
            "24/24 [==============================] - 3s 121ms/step - loss: 0.0028\n",
            "Epoch 97/100\n",
            "24/24 [==============================] - 3s 118ms/step - loss: 0.0027\n",
            "Epoch 98/100\n",
            "24/24 [==============================] - 3s 117ms/step - loss: 0.0029\n",
            "Epoch 99/100\n",
            "24/24 [==============================] - 3s 117ms/step - loss: 0.0031\n",
            "Epoch 100/100\n",
            "24/24 [==============================] - 3s 117ms/step - loss: 0.0028\n"
          ],
          "name": "stdout"
        },
        {
          "output_type": "execute_result",
          "data": {
            "text/plain": [
              "<tensorflow.python.keras.callbacks.History at 0x7f869801b7b8>"
            ]
          },
          "metadata": {
            "tags": []
          },
          "execution_count": 6
        }
      ]
    },
    {
      "cell_type": "code",
      "metadata": {
        "id": "tYNx4PPPNFMI",
        "outputId": "d28b6a8c-148d-4328-ad29-f21c5237d6ce",
        "colab": {
          "base_uri": "https://localhost:8080/"
        }
      },
      "source": [
        "# Getting the predicted stock price of 2017\n",
        "dataset_train = df.iloc[:800, 1:2]\n",
        "dataset_test = df.iloc[800:, 1:2]\n",
        "dataset_total = pd.concat((dataset_train, dataset_test), axis = 0)\n",
        "inputs = dataset_total[len(dataset_total) - len(dataset_test) - 60:].values\n",
        "inputs = inputs.reshape(-1,1)\n",
        "inputs = sc.transform(inputs)\n",
        "X_test = []\n",
        "for i in range(60, 588):\n",
        "    X_test.append(inputs[i-60:i, 0])\n",
        "X_test = np.array(X_test)\n",
        "X_test = np.reshape(X_test, (X_test.shape[0], X_test.shape[1], 1))\n",
        "print(X_test.shape)\n",
        "# (528, 60, 1)"
      ],
      "execution_count": null,
      "outputs": [
        {
          "output_type": "stream",
          "text": [
            "(528, 60, 1)\n"
          ],
          "name": "stdout"
        }
      ]
    },
    {
      "cell_type": "code",
      "metadata": {
        "id": "2uB7BAxENIZb"
      },
      "source": [
        "predicted_stock_price = model.predict(X_test)\n",
        "predicted_stock_price = sc.inverse_transform(predicted_stock_price)"
      ],
      "execution_count": null,
      "outputs": []
    },
    {
      "cell_type": "code",
      "metadata": {
        "id": "75Xgd2caNI5g",
        "outputId": "4105bf20-76b4-4120-cb92-0a842e746e43",
        "colab": {
          "base_uri": "https://localhost:8080/",
          "height": 295
        }
      },
      "source": [
        "# Visualising the results\n",
        "plt.plot(df.loc[800:, 'Date'],dataset_test.values, color = 'red', label = 'Real TESLA Stock Price')\n",
        "plt.plot(df.loc[800:, 'Date'],predicted_stock_price, color = 'blue', label = 'Predicted TESLA Stock Price')\n",
        "plt.xticks(np.arange(0,528,50))\n",
        "plt.title('TESLA Stock Price Prediction')\n",
        "plt.xlabel('Time')\n",
        "plt.ylabel('TESLA Stock Price')\n",
        "plt.legend()\n",
        "plt.show()"
      ],
      "execution_count": null,
      "outputs": [
        {
          "output_type": "display_data",
          "data": {
            "image/png": "[encoded data removed]",
            "text/plain": [
              "<Figure size 432x288 with 1 Axes>"
            ]
          },
          "metadata": {
            "tags": [],
            "needs_background": "light"
          }
        }
      ]
    },
    {
      "cell_type": "markdown",
      "metadata": {
        "id": "26R_DYvqivds"
      },
      "source": [
        "# Build the input features with lag of 7 days"
      ]
    },
    {
      "cell_type": "code",
      "metadata": {
        "id": "ENQrXM7JNMRt",
        "outputId": "ff9cb43f-dc68-4a4a-bd99-7948d8d2608e",
        "colab": {
          "base_uri": "https://localhost:8080/"
        }
      },
      "source": [
        "# Creating a data structure with 60 time-steps and 1 output\n",
        "X_train = []\n",
        "y_train = []\n",
        "for i in range(60, 800, 7):\n",
        "    X_train.append(training_set_scaled[i-60:i, 0])\n",
        "    y_train.append(training_set_scaled[i, 0])\n",
        "\n",
        "X_test = []\n",
        "y_test = []\n",
        "for i in range(60, 588, 7):\n",
        "    X_test.append(inputs[i-60:i, 0])\n",
        "X_test = np.array(X_test)\n",
        "X_test = np.reshape(X_test, (X_test.shape[0], X_test.shape[1], 1))\n",
        "print(X_test.shape)\n",
        "# (76, 60, 1)"
      ],
      "execution_count": null,
      "outputs": [
        {
          "output_type": "stream",
          "text": [
            "(76, 60, 1)\n"
          ],
          "name": "stdout"
        }
      ]
    },
    {
      "cell_type": "code",
      "metadata": {
        "id": "-U7GR2ajjzfK"
      },
      "source": [
        "predicted_stock_price = model.predict(X_test)\n",
        "predicted_stock_price = sc.inverse_transform(predicted_stock_price)"
      ],
      "execution_count": null,
      "outputs": []
    },
    {
      "cell_type": "code",
      "metadata": {
        "id": "yYFLE0dZj2cn",
        "outputId": "71cdfb2e-6610-4232-843c-5777bbe7a6f4",
        "colab": {
          "base_uri": "https://localhost:8080/",
          "height": 295
        }
      },
      "source": [
        "# Visualising the results\n",
        "plt.plot(df.loc[800::7, 'Date'],dataset_test.values[::7], color = 'red', label = 'Real TESLA Stock Price')\n",
        "plt.plot(df.loc[800::7, 'Date'],predicted_stock_price, color = 'blue', label = 'Predicted TESLA Stock Price')\n",
        "plt.xticks(np.arange(0,76,7))\n",
        "plt.title('TESLA Stock Price Prediction')\n",
        "plt.xlabel('Time')\n",
        "plt.ylabel('TESLA Stock Price')\n",
        "plt.legend()\n",
        "plt.show()"
      ],
      "execution_count": null,
      "outputs": [
        {
          "output_type": "display_data",
          "data": {
            "image/png": "[encoded data removed]",
            "text/plain": [
              "<Figure size 432x288 with 1 Axes>"
            ]
          },
          "metadata": {
            "tags": [],
            "needs_background": "light"
          }
        }
      ]
    },
    {
      "cell_type": "markdown",
      "metadata": {
        "id": "1TBcZwFxlW88"
      },
      "source": [
        "# Build the input features with lag of 14 days"
      ]
    },
    {
      "cell_type": "code",
      "metadata": {
        "id": "eeMuXU51lkbJ",
        "outputId": "6601c2be-88b1-42a0-bc3c-f380951f412c",
        "colab": {
          "base_uri": "https://localhost:8080/"
        }
      },
      "source": [
        "# Creating a data structure with 60 time-steps and 1 output\n",
        "X_train = []\n",
        "y_train = []\n",
        "for i in range(60, 800, 14):\n",
        "    X_train.append(training_set_scaled[i-60:i, 0])\n",
        "    y_train.append(training_set_scaled[i, 0])\n",
        "\n",
        "X_test = []\n",
        "y_test = []\n",
        "for i in range(60, 588, 14):\n",
        "    X_test.append(inputs[i-60:i, 0])\n",
        "X_test = np.array(X_test)\n",
        "X_test = np.reshape(X_test, (X_test.shape[0], X_test.shape[1], 1))\n",
        "print(X_test.shape)\n",
        "# (38, 60, 1)"
      ],
      "execution_count": null,
      "outputs": [
        {
          "output_type": "stream",
          "text": [
            "(38, 60, 1)\n"
          ],
          "name": "stdout"
        }
      ]
    },
    {
      "cell_type": "code",
      "metadata": {
        "id": "dOzuLNjKlkbX"
      },
      "source": [
        "predicted_stock_price = model.predict(X_test)\n",
        "predicted_stock_price = sc.inverse_transform(predicted_stock_price)"
      ],
      "execution_count": null,
      "outputs": []
    },
    {
      "cell_type": "code",
      "metadata": {
        "id": "jNoBrFPjlkbg",
        "outputId": "5feba4d1-28a0-43ce-d889-cedcdad21523",
        "colab": {
          "base_uri": "https://localhost:8080/",
          "height": 295
        }
      },
      "source": [
        "# Visualising the results\n",
        "plt.plot(df.loc[800::14, 'Date'],dataset_test.values[::14], color = 'red', label = 'Real TESLA Stock Price')\n",
        "plt.plot(df.loc[800::14, 'Date'],predicted_stock_price, color = 'blue', label = 'Predicted TESLA Stock Price')\n",
        "plt.xticks(np.arange(0,38,3))\n",
        "plt.title('TESLA Stock Price Prediction')\n",
        "plt.xlabel('Time')\n",
        "plt.ylabel('TESLA Stock Price')\n",
        "plt.legend()\n",
        "plt.show()"
      ],
      "execution_count": null,
      "outputs": [
        {
          "output_type": "display_data",
          "data": {
            "image/png": "[encoded data removed]",
            "text/plain": [
              "<Figure size 432x288 with 1 Axes>"
            ]
          },
          "metadata": {
            "tags": [],
            "needs_background": "light"
          }
        }
      ]
    },
    {
      "cell_type": "markdown",
      "metadata": {
        "id": "wx5D9dHvmtL8"
      },
      "source": [
        "# Model with lag of 7 days and 5 hidden layers and dropout 0.2"
      ]
    },
    {
      "cell_type": "code",
      "metadata": {
        "id": "bOuxHeyoLBWQ"
      },
      "source": [
        "# Creating a data structure with 60 time-steps and 1 output\n",
        "X_train = []\n",
        "y_train = []\n",
        "for i in range(60, 800):\n",
        "    X_train.append(training_set_scaled[i-60:i, 0])\n",
        "    y_train.append(training_set_scaled[i, 0])\n",
        "X_train, y_train = np.array(X_train), np.array(y_train)\n",
        "X_train = np.reshape(X_train, (X_train.shape[0], X_train.shape[1], 1))"
      ],
      "execution_count": null,
      "outputs": []
    },
    {
      "cell_type": "code",
      "metadata": {
        "id": "S27vEfDkuSoR",
        "outputId": "bb04cbe5-a72b-42cf-fc2c-01aaab3642c6",
        "colab": {
          "base_uri": "https://localhost:8080/"
        }
      },
      "source": [
        "model2 = Sequential()\n",
        "#Adding the first LSTM layer and some Dropout regularisation\n",
        "model2.add(LSTM(units = 50, return_sequences = True, input_shape = (X_train.shape[1], 1)))\n",
        "model2.add(Dropout(0.2))\n",
        "# Adding a second LSTM layer and some Dropout regularisation\n",
        "model2.add(LSTM(units = 50, return_sequences = True))\n",
        "model2.add(Dropout(0.2))\n",
        "# Adding a third LSTM layer and some Dropout regularisation\n",
        "model2.add(LSTM(units = 50, return_sequences = True))\n",
        "model2.add(Dropout(0.2))\n",
        "# Adding a fourth LSTM layer and some Dropout regularisation\n",
        "model2.add(LSTM(units = 50, return_sequences = True))\n",
        "model2.add(Dropout(0.2))\n",
        "# Adding a fifth LSTM layer and some Dropout regularisation\n",
        "model2.add(LSTM(units = 50))\n",
        "model2.add(Dropout(0.2))\n",
        "# Adding the output layer\n",
        "model2.add(Dense(units = 1))\n",
        "\n",
        "# Compiling the RNN\n",
        "model2.compile(optimizer = 'adam', loss = 'mean_squared_error')\n",
        "\n",
        "# Fitting the RNN to the Training set\n",
        "model2.fit(X_train, y_train, epochs = 100, batch_size = 32)"
      ],
      "execution_count": null,
      "outputs": [
        {
          "output_type": "stream",
          "text": [
            "Epoch 1/100\n",
            "24/24 [==============================] - 3s 131ms/step - loss: 0.0585\n",
            "Epoch 2/100\n",
            "24/24 [==============================] - 4s 146ms/step - loss: 0.0223\n",
            "Epoch 3/100\n",
            "24/24 [==============================] - 4s 147ms/step - loss: 0.0157\n",
            "Epoch 4/100\n",
            "24/24 [==============================] - 3s 143ms/step - loss: 0.0137\n",
            "Epoch 5/100\n",
            "24/24 [==============================] - 3s 141ms/step - loss: 0.0138\n",
            "Epoch 6/100\n",
            "24/24 [==============================] - 3s 139ms/step - loss: 0.0133\n",
            "Epoch 7/100\n",
            "24/24 [==============================] - 4s 148ms/step - loss: 0.0129\n",
            "Epoch 8/100\n",
            "24/24 [==============================] - 4s 150ms/step - loss: 0.0121\n",
            "Epoch 9/100\n",
            "24/24 [==============================] - 4s 146ms/step - loss: 0.0121\n",
            "Epoch 10/100\n",
            "24/24 [==============================] - 3s 142ms/step - loss: 0.0107\n",
            "Epoch 11/100\n",
            "24/24 [==============================] - 3s 142ms/step - loss: 0.0110\n",
            "Epoch 12/100\n",
            "24/24 [==============================] - 3s 144ms/step - loss: 0.0108\n",
            "Epoch 13/100\n",
            "24/24 [==============================] - 3s 143ms/step - loss: 0.0124\n",
            "Epoch 14/100\n",
            "24/24 [==============================] - 4s 147ms/step - loss: 0.0107\n",
            "Epoch 15/100\n",
            "24/24 [==============================] - 3s 141ms/step - loss: 0.0095\n",
            "Epoch 16/100\n",
            "24/24 [==============================] - 3s 142ms/step - loss: 0.0089\n",
            "Epoch 17/100\n",
            "24/24 [==============================] - 3s 143ms/step - loss: 0.0089\n",
            "Epoch 18/100\n",
            "24/24 [==============================] - 3s 145ms/step - loss: 0.0094\n",
            "Epoch 19/100\n",
            "24/24 [==============================] - 3s 145ms/step - loss: 0.0094\n",
            "Epoch 20/100\n",
            "24/24 [==============================] - 3s 144ms/step - loss: 0.0097\n",
            "Epoch 21/100\n",
            "24/24 [==============================] - 4s 149ms/step - loss: 0.0074\n",
            "Epoch 22/100\n",
            "24/24 [==============================] - 4s 147ms/step - loss: 0.0076\n",
            "Epoch 23/100\n",
            "24/24 [==============================] - 3s 140ms/step - loss: 0.0069\n",
            "Epoch 24/100\n",
            "24/24 [==============================] - 3s 142ms/step - loss: 0.0077\n",
            "Epoch 25/100\n",
            "24/24 [==============================] - 3s 144ms/step - loss: 0.0073\n",
            "Epoch 26/100\n",
            "24/24 [==============================] - 3s 141ms/step - loss: 0.0070\n",
            "Epoch 27/100\n",
            "24/24 [==============================] - 3s 142ms/step - loss: 0.0075\n",
            "Epoch 28/100\n",
            "24/24 [==============================] - 3s 140ms/step - loss: 0.0063\n",
            "Epoch 29/100\n",
            "24/24 [==============================] - 3s 140ms/step - loss: 0.0065\n",
            "Epoch 30/100\n",
            "24/24 [==============================] - 3s 143ms/step - loss: 0.0076\n",
            "Epoch 31/100\n",
            "24/24 [==============================] - 3s 143ms/step - loss: 0.0062\n",
            "Epoch 32/100\n",
            "24/24 [==============================] - 3s 142ms/step - loss: 0.0064\n",
            "Epoch 33/100\n",
            "24/24 [==============================] - 3s 142ms/step - loss: 0.0064\n",
            "Epoch 34/100\n",
            "24/24 [==============================] - 3s 140ms/step - loss: 0.0054\n",
            "Epoch 35/100\n",
            "24/24 [==============================] - 3s 143ms/step - loss: 0.0055\n",
            "Epoch 36/100\n",
            "24/24 [==============================] - 3s 143ms/step - loss: 0.0059\n",
            "Epoch 37/100\n",
            "24/24 [==============================] - 3s 140ms/step - loss: 0.0061\n",
            "Epoch 38/100\n",
            "24/24 [==============================] - 3s 145ms/step - loss: 0.0055\n",
            "Epoch 39/100\n",
            "24/24 [==============================] - 3s 141ms/step - loss: 0.0054\n",
            "Epoch 40/100\n",
            "24/24 [==============================] - 3s 145ms/step - loss: 0.0052\n",
            "Epoch 41/100\n",
            "24/24 [==============================] - 3s 142ms/step - loss: 0.0059\n",
            "Epoch 42/100\n",
            "24/24 [==============================] - 3s 142ms/step - loss: 0.0052\n",
            "Epoch 43/100\n",
            "24/24 [==============================] - 4s 146ms/step - loss: 0.0047\n",
            "Epoch 44/100\n",
            "24/24 [==============================] - 3s 142ms/step - loss: 0.0051\n",
            "Epoch 45/100\n",
            "24/24 [==============================] - 3s 141ms/step - loss: 0.0051\n",
            "Epoch 46/100\n",
            "24/24 [==============================] - 3s 141ms/step - loss: 0.0048\n",
            "Epoch 47/100\n",
            "24/24 [==============================] - 3s 145ms/step - loss: 0.0046\n",
            "Epoch 48/100\n",
            "24/24 [==============================] - 3s 146ms/step - loss: 0.0047\n",
            "Epoch 49/100\n",
            "24/24 [==============================] - 3s 141ms/step - loss: 0.0050\n",
            "Epoch 50/100\n",
            "24/24 [==============================] - 4s 153ms/step - loss: 0.0057\n",
            "Epoch 51/100\n",
            "24/24 [==============================] - 4s 150ms/step - loss: 0.0049\n",
            "Epoch 52/100\n",
            "24/24 [==============================] - 4s 151ms/step - loss: 0.0048\n",
            "Epoch 53/100\n",
            "24/24 [==============================] - 4s 153ms/step - loss: 0.0047\n",
            "Epoch 54/100\n",
            "24/24 [==============================] - 4s 150ms/step - loss: 0.0042\n",
            "Epoch 55/100\n",
            "24/24 [==============================] - 4s 154ms/step - loss: 0.0041\n",
            "Epoch 56/100\n",
            "24/24 [==============================] - 4s 155ms/step - loss: 0.0042\n",
            "Epoch 57/100\n",
            "24/24 [==============================] - 4s 150ms/step - loss: 0.0043\n",
            "Epoch 58/100\n",
            "24/24 [==============================] - 3s 140ms/step - loss: 0.0051\n",
            "Epoch 59/100\n",
            "24/24 [==============================] - 3s 144ms/step - loss: 0.0047\n",
            "Epoch 60/100\n",
            "24/24 [==============================] - 4s 147ms/step - loss: 0.0047\n",
            "Epoch 61/100\n",
            "24/24 [==============================] - 3s 140ms/step - loss: 0.0043\n",
            "Epoch 62/100\n",
            "24/24 [==============================] - 4s 149ms/step - loss: 0.0042\n",
            "Epoch 63/100\n",
            "24/24 [==============================] - 3s 141ms/step - loss: 0.0041\n",
            "Epoch 64/100\n",
            "24/24 [==============================] - 3s 143ms/step - loss: 0.0040\n",
            "Epoch 65/100\n",
            "24/24 [==============================] - 3s 143ms/step - loss: 0.0036\n",
            "Epoch 66/100\n",
            "24/24 [==============================] - 3s 139ms/step - loss: 0.0044\n",
            "Epoch 67/100\n",
            "24/24 [==============================] - 3s 140ms/step - loss: 0.0036\n",
            "Epoch 68/100\n",
            "24/24 [==============================] - 3s 142ms/step - loss: 0.0041\n",
            "Epoch 69/100\n",
            "24/24 [==============================] - 3s 143ms/step - loss: 0.0042\n",
            "Epoch 70/100\n",
            "24/24 [==============================] - 3s 141ms/step - loss: 0.0041\n",
            "Epoch 71/100\n",
            "24/24 [==============================] - 3s 144ms/step - loss: 0.0039\n",
            "Epoch 72/100\n",
            "24/24 [==============================] - 3s 143ms/step - loss: 0.0036\n",
            "Epoch 73/100\n",
            "24/24 [==============================] - 3s 145ms/step - loss: 0.0036\n",
            "Epoch 74/100\n",
            "24/24 [==============================] - 3s 142ms/step - loss: 0.0034\n",
            "Epoch 75/100\n",
            "24/24 [==============================] - 3s 143ms/step - loss: 0.0033\n",
            "Epoch 76/100\n",
            "24/24 [==============================] - 3s 144ms/step - loss: 0.0039\n",
            "Epoch 77/100\n",
            "24/24 [==============================] - 4s 148ms/step - loss: 0.0032\n",
            "Epoch 78/100\n",
            "24/24 [==============================] - 3s 141ms/step - loss: 0.0035\n",
            "Epoch 79/100\n",
            "24/24 [==============================] - 4s 146ms/step - loss: 0.0033\n",
            "Epoch 80/100\n",
            "24/24 [==============================] - 3s 141ms/step - loss: 0.0035\n",
            "Epoch 81/100\n",
            "24/24 [==============================] - 3s 140ms/step - loss: 0.0037\n",
            "Epoch 82/100\n",
            "24/24 [==============================] - 3s 142ms/step - loss: 0.0040\n",
            "Epoch 83/100\n",
            "24/24 [==============================] - 3s 141ms/step - loss: 0.0038\n",
            "Epoch 84/100\n",
            "24/24 [==============================] - 3s 142ms/step - loss: 0.0035\n",
            "Epoch 85/100\n",
            "24/24 [==============================] - 3s 140ms/step - loss: 0.0041\n",
            "Epoch 86/100\n",
            "24/24 [==============================] - 3s 140ms/step - loss: 0.0033\n",
            "Epoch 87/100\n",
            "24/24 [==============================] - 3s 141ms/step - loss: 0.0030\n",
            "Epoch 88/100\n",
            "24/24 [==============================] - 3s 140ms/step - loss: 0.0034\n",
            "Epoch 89/100\n",
            "24/24 [==============================] - 3s 141ms/step - loss: 0.0030\n",
            "Epoch 90/100\n",
            "24/24 [==============================] - 3s 141ms/step - loss: 0.0032\n",
            "Epoch 91/100\n",
            "24/24 [==============================] - 4s 146ms/step - loss: 0.0032\n",
            "Epoch 92/100\n",
            "24/24 [==============================] - 3s 144ms/step - loss: 0.0033\n",
            "Epoch 93/100\n",
            "24/24 [==============================] - 4s 147ms/step - loss: 0.0032\n",
            "Epoch 94/100\n",
            "24/24 [==============================] - 4s 146ms/step - loss: 0.0030\n",
            "Epoch 95/100\n",
            "24/24 [==============================] - 3s 145ms/step - loss: 0.0033\n",
            "Epoch 96/100\n",
            "24/24 [==============================] - 3s 141ms/step - loss: 0.0030\n",
            "Epoch 97/100\n",
            "24/24 [==============================] - 3s 141ms/step - loss: 0.0036\n",
            "Epoch 98/100\n",
            "24/24 [==============================] - 3s 143ms/step - loss: 0.0030\n",
            "Epoch 99/100\n",
            "24/24 [==============================] - 3s 142ms/step - loss: 0.0028\n",
            "Epoch 100/100\n",
            "24/24 [==============================] - 3s 140ms/step - loss: 0.0031\n"
          ],
          "name": "stdout"
        },
        {
          "output_type": "execute_result",
          "data": {
            "text/plain": [
              "<tensorflow.python.keras.callbacks.History at 0x7f86910aefd0>"
            ]
          },
          "metadata": {
            "tags": []
          },
          "execution_count": 24
        }
      ]
    },
    {
      "cell_type": "code",
      "metadata": {
        "id": "g7irGORsILKQ"
      },
      "source": [
        "# Creating a data structure with 60 time-steps and 1 output\n",
        "X_train = []\n",
        "y_train = []\n",
        "for i in range(60, 800, 7):\n",
        "    X_train.append(training_set_scaled[i-60:i, 0])\n",
        "    y_train.append(training_set_scaled[i, 0])\n",
        "\n",
        "X_test = []\n",
        "y_test = []\n",
        "for i in range(60, 588, 7):\n",
        "    X_test.append(inputs[i-60:i, 0])\n",
        "X_test = np.array(X_test)\n",
        "X_test = np.reshape(X_test, (X_test.shape[0], X_test.shape[1], 1))"
      ],
      "execution_count": null,
      "outputs": []
    },
    {
      "cell_type": "code",
      "metadata": {
        "id": "F8avXw5_IJDm"
      },
      "source": [
        "predicted_stock_price_2 = model2.predict(X_test)\n",
        "predicted_stock_price_2 = sc.inverse_transform(predicted_stock_price_2)"
      ],
      "execution_count": null,
      "outputs": []
    },
    {
      "cell_type": "code",
      "metadata": {
        "id": "_jVi5z1kI8re",
        "outputId": "e5a212b5-e56a-4d23-eb1f-2c210d391eeb",
        "colab": {
          "base_uri": "https://localhost:8080/",
          "height": 730
        }
      },
      "source": [
        "# Visualising the results\n",
        "plt.plot(df.loc[800::7, 'Date'],dataset_test.values[::7], color = 'red',\n",
        "         label = 'Real TESLA Stock Price')\n",
        "plt.plot(df.loc[800::14, 'Date'],predicted_stock_price, color = 'blue',\n",
        "         label = 'Predicted TESLA Stock Price Using 4 layers')\n",
        "plt.plot(df.loc[800::7, 'Date'],predicted_stock_price_2, color = 'green',\n",
        "         label = 'Predicted TESLA Stock Price Using 5 layers')\n",
        "plt.xticks(np.arange(0,76,7))\n",
        "plt.title('TESLA Stock Price Prediction')\n",
        "plt.xlabel('Time')\n",
        "plt.ylabel('TESLA Stock Price')\n",
        "plt.legend()\n",
        "figure = plt.gcf()\n",
        "figure.set_size_inches(16,12)\n",
        "plt.show()"
      ],
      "execution_count": null,
      "outputs": [
        {
          "output_type": "display_data",
          "data": {
            "image/png": "[encoded data removed]",
            "text/plain": [
              "<Figure size 1152x864 with 1 Axes>"
            ]
          },
          "metadata": {
            "tags": [],
            "needs_background": "light"
          }
        }
      ]
    },
    {
      "cell_type": "markdown",
      "metadata": {
        "id": "0V16NREyd6RK"
      },
      "source": [
        "# Model with lag of 7 days and 4 hidden layers and dropout 0.1"
      ]
    },
    {
      "cell_type": "code",
      "metadata": {
        "id": "8p4Eif2SeJnS"
      },
      "source": [
        "# Creating a data structure with 60 time-steps and 1 output\n",
        "X_train = []\n",
        "y_train = []\n",
        "for i in range(60, 800):\n",
        "    X_train.append(training_set_scaled[i-60:i, 0])\n",
        "    y_train.append(training_set_scaled[i, 0])\n",
        "X_train, y_train = np.array(X_train), np.array(y_train)\n",
        "X_train = np.reshape(X_train, (X_train.shape[0], X_train.shape[1], 1))"
      ],
      "execution_count": null,
      "outputs": []
    },
    {
      "cell_type": "code",
      "metadata": {
        "id": "_1GNi7EteNqp",
        "outputId": "d5f6b1be-2773-4f30-8049-2c9efe238d2a",
        "colab": {
          "base_uri": "https://localhost:8080/"
        }
      },
      "source": [
        "model3 = Sequential()\n",
        "# Adding the first LSTM layer and some Dropout regularisation\n",
        "model3.add(LSTM(units = 50, return_sequences = True, input_shape = (X_train.shape[1], 1)))\n",
        "model3.add(Dropout(0.1))\n",
        "# Adding a second LSTM layer and some Dropout regularisation\n",
        "model3.add(LSTM(units = 50, return_sequences = True))\n",
        "model3.add(Dropout(0.1))\n",
        "# Adding a third LSTM layer and some Dropout regularisation\n",
        "model3.add(LSTM(units = 50, return_sequences = True))\n",
        "model3.add(Dropout(0.1))\n",
        "# Adding a fourth LSTM layer and some Dropout regularisation\n",
        "model3.add(LSTM(units = 50))\n",
        "model3.add(Dropout(0.1))\n",
        "# Adding the output layer\n",
        "model3.add(Dense(units = 1))\n",
        "\n",
        "# Compiling the RNN\n",
        "model3.compile(optimizer = 'adam', loss = 'mean_squared_error')\n",
        "\n",
        "# Fitting the RNN to the Training set\n",
        "model3.fit(X_train, y_train, epochs = 100, batch_size = 32)"
      ],
      "execution_count": null,
      "outputs": [
        {
          "output_type": "stream",
          "text": [
            "Epoch 1/100\n",
            "24/24 [==============================] - 3s 107ms/step - loss: 0.0571\n",
            "Epoch 2/100\n",
            "24/24 [==============================] - 3s 116ms/step - loss: 0.0174\n",
            "Epoch 3/100\n",
            "24/24 [==============================] - 3s 113ms/step - loss: 0.0111\n",
            "Epoch 4/100\n",
            "24/24 [==============================] - 3s 116ms/step - loss: 0.0110\n",
            "Epoch 5/100\n",
            "24/24 [==============================] - 3s 115ms/step - loss: 0.0126\n",
            "Epoch 6/100\n",
            "24/24 [==============================] - 3s 114ms/step - loss: 0.0101\n",
            "Epoch 7/100\n",
            "24/24 [==============================] - 3s 114ms/step - loss: 0.0101\n",
            "Epoch 8/100\n",
            "24/24 [==============================] - 3s 118ms/step - loss: 0.0102\n",
            "Epoch 9/100\n",
            "24/24 [==============================] - 3s 116ms/step - loss: 0.0086\n",
            "Epoch 10/100\n",
            "24/24 [==============================] - 3s 118ms/step - loss: 0.0086\n",
            "Epoch 11/100\n",
            "24/24 [==============================] - 3s 117ms/step - loss: 0.0085\n",
            "Epoch 12/100\n",
            "24/24 [==============================] - 3s 126ms/step - loss: 0.0079\n",
            "Epoch 13/100\n",
            "24/24 [==============================] - 3s 121ms/step - loss: 0.0080\n",
            "Epoch 14/100\n",
            "24/24 [==============================] - 3s 114ms/step - loss: 0.0081\n",
            "Epoch 15/100\n",
            "24/24 [==============================] - 3s 119ms/step - loss: 0.0079\n",
            "Epoch 16/100\n",
            "24/24 [==============================] - 3s 120ms/step - loss: 0.0069\n",
            "Epoch 17/100\n",
            "24/24 [==============================] - 3s 120ms/step - loss: 0.0083\n",
            "Epoch 18/100\n",
            "24/24 [==============================] - 3s 119ms/step - loss: 0.0065\n",
            "Epoch 19/100\n",
            "24/24 [==============================] - 3s 119ms/step - loss: 0.0074\n",
            "Epoch 20/100\n",
            "24/24 [==============================] - 3s 125ms/step - loss: 0.0068\n",
            "Epoch 21/100\n",
            "24/24 [==============================] - 3s 126ms/step - loss: 0.0059\n",
            "Epoch 22/100\n",
            "24/24 [==============================] - 3s 127ms/step - loss: 0.0054\n",
            "Epoch 23/100\n",
            "24/24 [==============================] - 3s 121ms/step - loss: 0.0061\n",
            "Epoch 24/100\n",
            "24/24 [==============================] - 3s 118ms/step - loss: 0.0051\n",
            "Epoch 25/100\n",
            "24/24 [==============================] - 3s 118ms/step - loss: 0.0050\n",
            "Epoch 26/100\n",
            "24/24 [==============================] - 3s 114ms/step - loss: 0.0062\n",
            "Epoch 27/100\n",
            "24/24 [==============================] - 3s 116ms/step - loss: 0.0059\n",
            "Epoch 28/100\n",
            "24/24 [==============================] - 3s 120ms/step - loss: 0.0051\n",
            "Epoch 29/100\n",
            "24/24 [==============================] - 3s 117ms/step - loss: 0.0046\n",
            "Epoch 30/100\n",
            "24/24 [==============================] - 3s 117ms/step - loss: 0.0047\n",
            "Epoch 31/100\n",
            "24/24 [==============================] - 3s 119ms/step - loss: 0.0050\n",
            "Epoch 32/100\n",
            "24/24 [==============================] - 3s 119ms/step - loss: 0.0045\n",
            "Epoch 33/100\n",
            "24/24 [==============================] - 3s 118ms/step - loss: 0.0043\n",
            "Epoch 34/100\n",
            "24/24 [==============================] - 3s 115ms/step - loss: 0.0051\n",
            "Epoch 35/100\n",
            "24/24 [==============================] - 3s 121ms/step - loss: 0.0049\n",
            "Epoch 36/100\n",
            "24/24 [==============================] - 3s 120ms/step - loss: 0.0053\n",
            "Epoch 37/100\n",
            "24/24 [==============================] - 3s 115ms/step - loss: 0.0045\n",
            "Epoch 38/100\n",
            "24/24 [==============================] - 3s 121ms/step - loss: 0.0041\n",
            "Epoch 39/100\n",
            "24/24 [==============================] - 3s 115ms/step - loss: 0.0038\n",
            "Epoch 40/100\n",
            "24/24 [==============================] - 3s 116ms/step - loss: 0.0039\n",
            "Epoch 41/100\n",
            "24/24 [==============================] - 3s 121ms/step - loss: 0.0040\n",
            "Epoch 42/100\n",
            "24/24 [==============================] - 3s 118ms/step - loss: 0.0038\n",
            "Epoch 43/100\n",
            "24/24 [==============================] - 3s 116ms/step - loss: 0.0040\n",
            "Epoch 44/100\n",
            "24/24 [==============================] - 3s 120ms/step - loss: 0.0039\n",
            "Epoch 45/100\n",
            "24/24 [==============================] - 3s 119ms/step - loss: 0.0037\n",
            "Epoch 46/100\n",
            "24/24 [==============================] - 3s 121ms/step - loss: 0.0036\n",
            "Epoch 47/100\n",
            "24/24 [==============================] - 3s 115ms/step - loss: 0.0034\n",
            "Epoch 48/100\n",
            "24/24 [==============================] - 3s 118ms/step - loss: 0.0033\n",
            "Epoch 49/100\n",
            "24/24 [==============================] - 3s 114ms/step - loss: 0.0037\n",
            "Epoch 50/100\n",
            "24/24 [==============================] - 3s 116ms/step - loss: 0.0035\n",
            "Epoch 51/100\n",
            "24/24 [==============================] - 3s 115ms/step - loss: 0.0032\n",
            "Epoch 52/100\n",
            "24/24 [==============================] - 3s 117ms/step - loss: 0.0035\n",
            "Epoch 53/100\n",
            "24/24 [==============================] - 3s 120ms/step - loss: 0.0030\n",
            "Epoch 54/100\n",
            "24/24 [==============================] - 3s 117ms/step - loss: 0.0031\n",
            "Epoch 55/100\n",
            "24/24 [==============================] - 3s 118ms/step - loss: 0.0031\n",
            "Epoch 56/100\n",
            "24/24 [==============================] - 3s 121ms/step - loss: 0.0031\n",
            "Epoch 57/100\n",
            "24/24 [==============================] - 3s 120ms/step - loss: 0.0029\n",
            "Epoch 58/100\n",
            "24/24 [==============================] - 3s 118ms/step - loss: 0.0031\n",
            "Epoch 59/100\n",
            "24/24 [==============================] - 3s 118ms/step - loss: 0.0029\n",
            "Epoch 60/100\n",
            "24/24 [==============================] - 3s 118ms/step - loss: 0.0030\n",
            "Epoch 61/100\n",
            "24/24 [==============================] - 3s 124ms/step - loss: 0.0034\n",
            "Epoch 62/100\n",
            "24/24 [==============================] - 3s 118ms/step - loss: 0.0034\n",
            "Epoch 63/100\n",
            "24/24 [==============================] - 3s 117ms/step - loss: 0.0029\n",
            "Epoch 64/100\n",
            "24/24 [==============================] - 3s 119ms/step - loss: 0.0033\n",
            "Epoch 65/100\n",
            "24/24 [==============================] - 3s 118ms/step - loss: 0.0030\n",
            "Epoch 66/100\n",
            "24/24 [==============================] - 3s 120ms/step - loss: 0.0027\n",
            "Epoch 67/100\n",
            "24/24 [==============================] - 3s 118ms/step - loss: 0.0031\n",
            "Epoch 68/100\n",
            "24/24 [==============================] - 3s 115ms/step - loss: 0.0026\n",
            "Epoch 69/100\n",
            "24/24 [==============================] - 3s 118ms/step - loss: 0.0028\n",
            "Epoch 70/100\n",
            "24/24 [==============================] - 3s 123ms/step - loss: 0.0028\n",
            "Epoch 71/100\n",
            "24/24 [==============================] - 3s 140ms/step - loss: 0.0025\n",
            "Epoch 72/100\n",
            "24/24 [==============================] - 3s 128ms/step - loss: 0.0026\n",
            "Epoch 73/100\n",
            "24/24 [==============================] - 3s 144ms/step - loss: 0.0026\n",
            "Epoch 74/100\n",
            "24/24 [==============================] - 3s 117ms/step - loss: 0.0025\n",
            "Epoch 75/100\n",
            "24/24 [==============================] - 3s 137ms/step - loss: 0.0029\n",
            "Epoch 76/100\n",
            "24/24 [==============================] - 3s 119ms/step - loss: 0.0031\n",
            "Epoch 77/100\n",
            "24/24 [==============================] - 3s 120ms/step - loss: 0.0026\n",
            "Epoch 78/100\n",
            "24/24 [==============================] - 3s 119ms/step - loss: 0.0026\n",
            "Epoch 79/100\n",
            "24/24 [==============================] - 3s 116ms/step - loss: 0.0031\n",
            "Epoch 80/100\n",
            "24/24 [==============================] - 3s 118ms/step - loss: 0.0025\n",
            "Epoch 81/100\n",
            "24/24 [==============================] - 3s 119ms/step - loss: 0.0025\n",
            "Epoch 82/100\n",
            "24/24 [==============================] - 3s 118ms/step - loss: 0.0023\n",
            "Epoch 83/100\n",
            "24/24 [==============================] - 3s 117ms/step - loss: 0.0025\n",
            "Epoch 84/100\n",
            "24/24 [==============================] - 3s 116ms/step - loss: 0.0023\n",
            "Epoch 85/100\n",
            "24/24 [==============================] - 3s 115ms/step - loss: 0.0023\n",
            "Epoch 86/100\n",
            "24/24 [==============================] - 3s 119ms/step - loss: 0.0026\n",
            "Epoch 87/100\n",
            "24/24 [==============================] - 3s 122ms/step - loss: 0.0024\n",
            "Epoch 88/100\n",
            "24/24 [==============================] - 3s 119ms/step - loss: 0.0028\n",
            "Epoch 89/100\n",
            "24/24 [==============================] - 3s 120ms/step - loss: 0.0025\n",
            "Epoch 90/100\n",
            "24/24 [==============================] - 3s 119ms/step - loss: 0.0027\n",
            "Epoch 91/100\n",
            "24/24 [==============================] - 3s 119ms/step - loss: 0.0022\n",
            "Epoch 92/100\n",
            "24/24 [==============================] - 3s 116ms/step - loss: 0.0029\n",
            "Epoch 93/100\n",
            "24/24 [==============================] - 3s 120ms/step - loss: 0.0029\n",
            "Epoch 94/100\n",
            "24/24 [==============================] - 3s 114ms/step - loss: 0.0021\n",
            "Epoch 95/100\n",
            "24/24 [==============================] - 3s 119ms/step - loss: 0.0024\n",
            "Epoch 96/100\n",
            "24/24 [==============================] - 3s 120ms/step - loss: 0.0023\n",
            "Epoch 97/100\n",
            "24/24 [==============================] - 3s 117ms/step - loss: 0.0022\n",
            "Epoch 98/100\n",
            "24/24 [==============================] - 3s 115ms/step - loss: 0.0023\n",
            "Epoch 99/100\n",
            "24/24 [==============================] - 3s 115ms/step - loss: 0.0023\n",
            "Epoch 100/100\n",
            "24/24 [==============================] - 3s 119ms/step - loss: 0.0023\n"
          ],
          "name": "stdout"
        },
        {
          "output_type": "execute_result",
          "data": {
            "text/plain": [
              "<tensorflow.python.keras.callbacks.History at 0x7f868e706f28>"
            ]
          },
          "metadata": {
            "tags": []
          },
          "execution_count": 33
        }
      ]
    },
    {
      "cell_type": "code",
      "metadata": {
        "id": "Loa6w-AHeWQE"
      },
      "source": [
        "# Creating a data structure with 60 time-steps and 1 output\n",
        "X_train = []\n",
        "y_train = []\n",
        "for i in range(60, 800, 7):\n",
        "    X_train.append(training_set_scaled[i-60:i, 0])\n",
        "    y_train.append(training_set_scaled[i, 0])\n",
        "\n",
        "X_test = []\n",
        "y_test = []\n",
        "for i in range(60, 588, 7):\n",
        "    X_test.append(inputs[i-60:i, 0])\n",
        "X_test = np.array(X_test)\n",
        "X_test = np.reshape(X_test, (X_test.shape[0], X_test.shape[1], 1))"
      ],
      "execution_count": null,
      "outputs": []
    },
    {
      "cell_type": "code",
      "metadata": {
        "id": "-ERwGpsWJOO9"
      },
      "source": [
        "predicted_stock_price_3 = model3.predict(X_test)\n",
        "predicted_stock_price_3 = sc.inverse_transform(predicted_stock_price_3)"
      ],
      "execution_count": null,
      "outputs": []
    },
    {
      "cell_type": "code",
      "metadata": {
        "id": "MSCBB8rQeZ5i",
        "outputId": "e5c32fbb-baeb-4906-ccd4-4a144c96bec1",
        "colab": {
          "base_uri": "https://localhost:8080/",
          "height": 730
        }
      },
      "source": [
        "# Visualising the results\n",
        "plt.plot(df.loc[800::7, 'Date'],dataset_test.values[::7], color = 'red',\n",
        "         label = 'Real TESLA Stock Price')\n",
        "plt.plot(df.loc[800::7, 'Date'],predicted_stock_price, color = 'blue',\n",
        "         label = 'Predicted TESLA Stock Price with Dropout 0.2')\n",
        "plt.plot(df.loc[800::7, 'Date'],predicted_stock_price_3, color = 'green',\n",
        "         label = 'Predicted TESLA Stock Price with Dropout 0.1')\n",
        "plt.xticks(np.arange(0,76,7))\n",
        "plt.title('TESLA Stock Price Prediction')\n",
        "plt.xlabel('Time')\n",
        "plt.ylabel('TESLA Stock Price')\n",
        "plt.legend()\n",
        "figure = plt.gcf()\n",
        "figure.set_size_inches(16,12)\n",
        "plt.show()"
      ],
      "execution_count": null,
      "outputs": [
        {
          "output_type": "display_data",
          "data": {
            "image/png": "[encoded data removed]",
            "text/plain": [
              "<Figure size 1152x864 with 1 Axes>"
            ]
          },
          "metadata": {
            "tags": [],
            "needs_background": "light"
          }
        }
      ]
    },
    {
      "cell_type": "markdown",
      "metadata": {
        "id": "upaVBOEZ1yiQ"
      },
      "source": [
        "# Predictions for future 2 weeks using model with lag of 7 days and 5 hidden layers and dropout 0.2"
      ]
    },
    {
      "cell_type": "code",
      "metadata": {
        "id": "fP2kNdVx1xqQ"
      },
      "source": [
        "## predict price in two weeks\n",
        "# calculate date difference\n",
        "from datetime import datetime\n",
        "cur_day = datetime(2020, 10, 14)\n",
        "end_day = datetime(2020, 10, 28)\n",
        "time_horizon = (end_day - cur_day).days"
      ],
      "execution_count": null,
      "outputs": []
    },
    {
      "cell_type": "code",
      "metadata": {
        "id": "kWmFRm2A17IC",
        "outputId": "5414f3ae-98f7-44bc-a1de-c9f6533734b2",
        "colab": {
          "base_uri": "https://localhost:8080/"
        }
      },
      "source": [
        "# get the date of following two weeks\n",
        "dates = df['Date']\n",
        "last_date = '2020-10-15'\n",
        "timestamp_list = pd.date_range(last_date, periods = time_horizon).tolist()\n",
        "datestring_list = [i.strftime(\"%Y-%m-%d\") for i in timestamp_list] \n",
        "datestring_list"
      ],
      "execution_count": null,
      "outputs": [
        {
          "output_type": "execute_result",
          "data": {
            "text/plain": [
              "['2020-10-15',\n",
              " '2020-10-16',\n",
              " '2020-10-17',\n",
              " '2020-10-18',\n",
              " '2020-10-19',\n",
              " '2020-10-20',\n",
              " '2020-10-21',\n",
              " '2020-10-22',\n",
              " '2020-10-23',\n",
              " '2020-10-24',\n",
              " '2020-10-25',\n",
              " '2020-10-26',\n",
              " '2020-10-27',\n",
              " '2020-10-28']"
            ]
          },
          "metadata": {
            "tags": []
          },
          "execution_count": 38
        }
      ]
    },
    {
      "cell_type": "code",
      "metadata": {
        "id": "4ZrCm-Wy19ip",
        "outputId": "10b88075-d891-47d1-a292-9b0f89c5d19f",
        "colab": {
          "base_uri": "https://localhost:8080/"
        }
      },
      "source": [
        "# delete weekends\n",
        "index = [2,3,9,10]\n",
        "to_del = object()\n",
        "for ind in index:\n",
        "    datestring_list[ind] = to_del\n",
        "for i in index:\n",
        "    datestring_list.remove(to_del)\n",
        "datestring_list"
      ],
      "execution_count": null,
      "outputs": [
        {
          "output_type": "execute_result",
          "data": {
            "text/plain": [
              "['2020-10-15',\n",
              " '2020-10-16',\n",
              " '2020-10-19',\n",
              " '2020-10-20',\n",
              " '2020-10-21',\n",
              " '2020-10-22',\n",
              " '2020-10-23',\n",
              " '2020-10-26',\n",
              " '2020-10-27',\n",
              " '2020-10-28']"
            ]
          },
          "metadata": {
            "tags": []
          },
          "execution_count": 39
        }
      ]
    },
    {
      "cell_type": "code",
      "metadata": {
        "id": "mC70e3UK2AZG",
        "outputId": "54c045a2-b948-42d8-a25a-594b788f94b7",
        "colab": {
          "base_uri": "https://localhost:8080/"
        }
      },
      "source": [
        "len(datestring_list)"
      ],
      "execution_count": null,
      "outputs": [
        {
          "output_type": "execute_result",
          "data": {
            "text/plain": [
              "10"
            ]
          },
          "metadata": {
            "tags": []
          },
          "execution_count": 40
        }
      ]
    },
    {
      "cell_type": "code",
      "metadata": {
        "id": "uCKFq9hh2DW6",
        "outputId": "b3317520-807c-4c78-c002-279f253681f1",
        "colab": {
          "base_uri": "https://localhost:8080/"
        }
      },
      "source": [
        "# Getting the predicted stock price of 2017\n",
        "dataset_train = df.iloc[:800, 1:2]\n",
        "dataset_test = df.iloc[800:, 1:2]\n",
        "dataset_total = pd.concat((dataset_train, dataset_test), axis = 0)\n",
        "inputs = dataset_total[len(dataset_total) - len(dataset_test) - 60:].values\n",
        "inputs = inputs.reshape(-1,1)\n",
        "inputs = sc.transform(inputs)\n",
        "X_test = []\n",
        "#get the test data\n",
        "for i in range(60, 538):\n",
        "    X_test.append(inputs[i-60:i, 0])\n",
        "\n",
        "# X_test.shape[0] has 478 values, we want use the last 10 value to predict \n",
        "del X_test[0:468]\n",
        "X_test = np.array(X_test)\n",
        "X_test = np.reshape(X_test, (X_test.shape[0], X_test.shape[1], 1))\n",
        "print(X_test.shape)"
      ],
      "execution_count": null,
      "outputs": [
        {
          "output_type": "stream",
          "text": [
            "(10, 60, 1)\n"
          ],
          "name": "stdout"
        }
      ]
    },
    {
      "cell_type": "code",
      "metadata": {
        "id": "E8sLvtit2GiM"
      },
      "source": [
        "predicted_stock_price = model2.predict(X_test)\n",
        "predicted_stock_price = sc.inverse_transform(predicted_stock_price)"
      ],
      "execution_count": null,
      "outputs": []
    },
    {
      "cell_type": "code",
      "metadata": {
        "id": "7TwUbXTf2MYI",
        "outputId": "06fa657f-8a0b-4fe0-d698-8c1bdc0a7250",
        "colab": {
          "base_uri": "https://localhost:8080/",
          "height": 513
        }
      },
      "source": [
        "# Visualising the results\n",
        "plt.plot(datestring_list,predicted_stock_price, color = 'blue', label = 'Predicted TESLA Stock Price')\n",
        "plt.xticks(np.arange(0,10))\n",
        "plt.title('TESLA Stock Price Prediction in 2 weeks')\n",
        "plt.xlabel('Time')\n",
        "plt.ylabel('TESLA Stock Price')\n",
        "plt.legend()\n",
        "figure = plt.gcf()\n",
        "figure.set_size_inches(12,8)\n",
        "plt.show()"
      ],
      "execution_count": null,
      "outputs": [
        {
          "output_type": "display_data",
          "data": {
            "image/png": "[encoded data removed]",
            "text/plain": [
              "<Figure size 864x576 with 1 Axes>"
            ]
          },
          "metadata": {
            "tags": [],
            "needs_background": "light"
          }
        }
      ]
    }
  ]
}